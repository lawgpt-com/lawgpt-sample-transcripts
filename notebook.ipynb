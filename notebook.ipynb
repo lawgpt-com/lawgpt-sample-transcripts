{
 "cells": [
  {
   "cell_type": "markdown",
   "metadata": {},
   "source": [
    "# Friends show transcripts"
   ]
  },
  {
   "cell_type": "code",
   "execution_count": 2,
   "metadata": {},
   "outputs": [],
   "source": [
    "import os\n",
    "import zipfile\n",
    "\n",
    "def zip_directory(folder_path, zip_file_path):\n",
    "    with zipfile.ZipFile(zip_file_path, 'w', zipfile.ZIP_DEFLATED) as zipf:\n",
    "        for root, dirs, files in os.walk(folder_path):\n",
    "            for file in files:\n",
    "                file_path = os.path.join(root, file)\n",
    "                zipf.write(file_path, os.path.relpath(file_path, folder_path))"
   ]
  },
  {
   "cell_type": "code",
   "execution_count": 1,
   "metadata": {},
   "outputs": [
    {
     "name": "stdout",
     "output_type": "stream",
     "text": [
      "Transcripts have been successfully written.\n"
     ]
    }
   ],
   "source": [
    "import os\n",
    "import pandas as pd\n",
    "\n",
    "# Read the TSV dataset\n",
    "file_path = 'raw_data/friends_transcripts.tsv'\n",
    "df = pd.read_csv(file_path, sep='\\t')\n",
    "\n",
    "destination_path = \"datasets/friends\"\n",
    "\n",
    "# Create the folder structure and write transcripts\n",
    "for (season_id, episode_id, scene_id), group in df.groupby(['season_id', 'episode_id', 'scene_id']):\n",
    "    # Create the directory if it doesn't exist\n",
    "    directory = f'{destination_path}/{season_id}/{episode_id}'\n",
    "    os.makedirs(directory, exist_ok=True)\n",
    "    \n",
    "    # File path for the transcript\n",
    "    file_name = f'{scene_id}.txt'\n",
    "    file_path = os.path.join(directory, file_name)\n",
    "    \n",
    "    # Write the transcript to the file\n",
    "    with open(file_path, 'w') as file:\n",
    "        for _, row in group.iterrows():\n",
    "            file.write(f'{row[\"speaker\"]}: {row[\"transcript\"]}\\n')\n",
    "\n",
    "print(\"Transcripts have been successfully written.\")\n",
    "\n",
    "# Define the folder path and the zip file path\n",
    "zip_file_path = f'{destination_path}/friends_transcripts.zip'\n",
    "\n",
    "# Zip the directory\n",
    "zip_directory(destination_path, zip_file_path)\n",
    "\n",
    "print(\"Files have been successfully zipped.\")\n",
    "\n"
   ]
  },
  {
   "cell_type": "markdown",
   "metadata": {},
   "source": [
    "# Purdue Pharma Bankruptcy Transcripts Collection"
   ]
  },
  {
   "cell_type": "code",
   "execution_count": 3,
   "metadata": {},
   "outputs": [
    {
     "name": "stdout",
     "output_type": "stream",
     "text": [
      "Documents have been successfully separated by extension.\n"
     ]
    }
   ],
   "source": [
    "import os\n",
    "import shutil\n",
    "\n",
    "def separate_and_rename_documents(main_folder_path, pdf_folder_path, ocr_folder_path):\n",
    "    # Create destination directories if they don't exist\n",
    "    os.makedirs(pdf_folder_path, exist_ok=True)\n",
    "    os.makedirs(ocr_folder_path, exist_ok=True)\n",
    "\n",
    "    # Traverse the main folder\n",
    "    for root, dirs, files in os.walk(main_folder_path):\n",
    "        for file in files:\n",
    "            file_path = os.path.join(root, file)\n",
    "            relative_path = os.path.relpath(root, main_folder_path)\n",
    "            \n",
    "            if file.endswith('.pdf'):\n",
    "                # Destination path for PDF files\n",
    "                dest_folder = os.path.join(pdf_folder_path, relative_path)\n",
    "                os.makedirs(dest_folder, exist_ok=True)\n",
    "                shutil.move(file_path, os.path.join(dest_folder, file))\n",
    "            elif file.endswith('.ocr'):\n",
    "                # Destination path for OCR files\n",
    "                dest_folder = os.path.join(ocr_folder_path, relative_path)\n",
    "                os.makedirs(dest_folder, exist_ok=True)\n",
    "                new_file_name = file.replace('.ocr', '.txt')\n",
    "                shutil.move(file_path, os.path.join(dest_folder, new_file_name))\n",
    "\n",
    "# Define the paths\n",
    "main_folder_path = 'raw_data/purdue_pharma_bankruptcy'\n",
    "pdf_folder_path = 'datasets/purdue_pharma_bankruptcy/pdf'\n",
    "ocr_folder_path = 'datasets/purdue_pharma_bankruptcy/txt'\n",
    "\n",
    "# Separate documents by extension\n",
    "separate_and_rename_documents(main_folder_path, pdf_folder_path, ocr_folder_path)\n",
    "\n",
    "print(\"Documents have been successfully separated by extension.\")\n"
   ]
  }
 ],
 "metadata": {
  "kernelspec": {
   "display_name": ".venv",
   "language": "python",
   "name": "python3"
  },
  "language_info": {
   "codemirror_mode": {
    "name": "ipython",
    "version": 3
   },
   "file_extension": ".py",
   "mimetype": "text/x-python",
   "name": "python",
   "nbconvert_exporter": "python",
   "pygments_lexer": "ipython3",
   "version": "3.12.2"
  }
 },
 "nbformat": 4,
 "nbformat_minor": 2
}
